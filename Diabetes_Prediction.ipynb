{
  "cells": [
    {
      "cell_type": "code",
      "source": [
        "import pandas as pd\n",
        "from sklearn.model_selection import train_test_split\n",
        "from sklearn.linear_model import LogisticRegression\n",
        "from sklearn.preprocessing import LabelEncoder\n",
        "from sklearn.metrics import accuracy_score\n",
        "\n",
        "data = pd.read_csv('diabetes_prediction_dataset.csv')\n",
        "\n",
        "# Preprocessing: Encoding categorical data\n",
        "label_encoder_gender = LabelEncoder()\n",
        "label_encoder_smoking = LabelEncoder()\n",
        "data['gender'] = label_encoder_gender.fit_transform(data['gender'])\n",
        "data['smoking_history'] = label_encoder_smoking.fit_transform(data['smoking_history'])\n",
        "\n",
        "# Features and target\n",
        "X = data.drop('diabetes', axis=1)\n",
        "y = data['diabetes']\n",
        "\n",
        "# Split data into training and testing sets\n",
        "X_train, X_test, y_train, y_test = train_test_split(X, y, test_size=0.2, random_state=42)\n",
        "\n",
        "# Train the Logistic Regression model\n",
        "model = LogisticRegression()\n",
        "model.fit(X_train, y_train)\n",
        "y_pred = model.predict(X_test)\n",
        "accuracy = accuracy_score(y_test, y_pred)\n",
        "print(f'Model Accuracy: {accuracy:.2f}')\n",
        "\n",
        "# Example user input for prediction\n",
        "example_input = {\n",
        "    'gender': 'Female',\n",
        "    'age': 45,\n",
        "    'hypertension': 0,\n",
        "    'heart_disease': 0,\n",
        "    'smoking_history': 'never',\n",
        "    'bmi': 28.1,\n",
        "    'HbA1c_level': 5.9,\n",
        "    'blood_glucose_level': 120\n",
        "}\n",
        "\n",
        "# Convert user input into DataFrame\n",
        "example_df = pd.DataFrame([example_input])\n",
        "if example_df['gender'][0] in label_encoder_gender.classes_:\n",
        "    example_df['gender'] = label_encoder_gender.transform(example_df['gender'])\n",
        "else:\n",
        "    example_df['gender'] = -1\n",
        "\n",
        "if example_df['smoking_history'][0] in label_encoder_smoking.classes_:\n",
        "    example_df['smoking_history'] = label_encoder_smoking.transform(example_df['smoking_history'])\n",
        "else:\n",
        "    example_df['smoking_history'] = -1\n",
        "\n",
        "# Predict using the trained model\n",
        "prediction = model.predict(example_df)[0]\n",
        "print(f'Predicted Diabetes Status: {\"Diabetic\" if prediction == 1 else \"Non-Diabetic\"}')\n",
        "\n",
        "\n"
      ],
      "metadata": {
        "colab": {
          "base_uri": "https://localhost:8080/"
        },
        "id": "sYi7a6DkdMAv",
        "outputId": "1f07fde3-24da-40d3-9849-9266517e1f71"
      },
      "id": "sYi7a6DkdMAv",
      "execution_count": 17,
      "outputs": [
        {
          "output_type": "stream",
          "name": "stdout",
          "text": [
            "Model Accuracy: 0.95\n",
            "Predicted Diabetes Status: Non-Diabetic\n"
          ]
        },
        {
          "output_type": "stream",
          "name": "stderr",
          "text": [
            "/usr/local/lib/python3.11/dist-packages/sklearn/linear_model/_logistic.py:465: ConvergenceWarning: lbfgs failed to converge (status=1):\n",
            "STOP: TOTAL NO. of ITERATIONS REACHED LIMIT.\n",
            "\n",
            "Increase the number of iterations (max_iter) or scale the data as shown in:\n",
            "    https://scikit-learn.org/stable/modules/preprocessing.html\n",
            "Please also refer to the documentation for alternative solver options:\n",
            "    https://scikit-learn.org/stable/modules/linear_model.html#logistic-regression\n",
            "  n_iter_i = _check_optimize_result(\n"
          ]
        }
      ]
    },
    {
      "cell_type": "code",
      "source": [
        "# Function to take user input and make a prediction\n",
        "def predict_from_user_input():\n",
        "    user_input = {\n",
        "        'gender': input(\"Enter gender (Male/Female/Other): \"),\n",
        "        'age': int(input(\"Enter age: \")),\n",
        "        'hypertension': int(input(\"Enter hypertension (0 for No, 1 for Yes): \")),\n",
        "        'heart_disease': int(input(\"Enter heart disease (0 for No, 1 for Yes): \")),\n",
        "        'smoking_history': input(\"Enter smoking history (never, former, current, etc.): \"),\n",
        "        'bmi': float(input(\"Enter BMI: \")),\n",
        "        'HbA1c_level': float(input(\"Enter HbA1c level: \")),\n",
        "        'blood_glucose_level': int(input(\"Enter blood glucose level: \"))\n",
        "    }\n",
        "\n",
        "    user_df = pd.DataFrame([user_input])\n",
        "    if user_df['gender'][0] in label_encoder_gender.classes_:\n",
        "        user_df['gender'] = label_encoder_gender.transform(user_df['gender'])\n",
        "    else:\n",
        "        user_df['gender'] = -1\n",
        "\n",
        "    if user_df['smoking_history'][0] in label_encoder_smoking.classes_:\n",
        "        user_df['smoking_history'] = label_encoder_smoking.transform(user_df['smoking_history'])\n",
        "    else:\n",
        "        user_df['smoking_history'] = -1\n",
        "\n",
        "    prediction = model.predict(user_df)[0]\n",
        "    print(f'Predicted Diabetes Status: {\"Diabetic\" if prediction == 1 else \"Non-Diabetic\"}')\n",
        "\n",
        "predict_from_user_input()"
      ],
      "metadata": {
        "colab": {
          "base_uri": "https://localhost:8080/"
        },
        "id": "IWcrYIjNd4rh",
        "outputId": "c5bb5828-2642-4c7a-ec9e-b78e6b06b53a"
      },
      "id": "IWcrYIjNd4rh",
      "execution_count": 19,
      "outputs": [
        {
          "output_type": "stream",
          "name": "stdout",
          "text": [
            "Enter gender (Male/Female/Other): male\n",
            "Enter age: 28\n",
            "Enter hypertension (0 for No, 1 for Yes): 0\n",
            "Enter heart disease (0 for No, 1 for Yes): 1\n",
            "Enter smoking history (never, former, current, etc.): former\n",
            "Enter BMI: 27\n",
            "Enter HbA1c level: 6\n",
            "Enter blood glucose level: 118\n",
            "Predicted Diabetes Status: Non-Diabetic\n"
          ]
        }
      ]
    }
  ],
  "metadata": {
    "kernelspec": {
      "display_name": "Python 3",
      "language": "python",
      "name": "python3"
    },
    "language_info": {
      "codemirror_mode": {
        "name": "ipython",
        "version": 3
      },
      "file_extension": ".py",
      "mimetype": "text/x-python",
      "name": "python",
      "nbconvert_exporter": "python",
      "pygments_lexer": "ipython3",
      "version": "3.8.5"
    },
    "colab": {
      "provenance": []
    }
  },
  "nbformat": 4,
  "nbformat_minor": 5
}
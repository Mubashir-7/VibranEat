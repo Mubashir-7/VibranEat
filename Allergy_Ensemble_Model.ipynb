{
  "nbformat": 4,
  "nbformat_minor": 0,
  "metadata": {
    "colab": {
      "provenance": []
    },
    "kernelspec": {
      "name": "python3",
      "display_name": "Python 3"
    },
    "language_info": {
      "name": "python"
    }
  },
  "cells": [
    {
      "cell_type": "code",
      "execution_count": 3,
      "metadata": {
        "colab": {
          "base_uri": "https://localhost:8080/"
        },
        "id": "iALQ8ppADapE",
        "outputId": "8bf72b15-e595-45ff-80de-83a5110232d8"
      },
      "outputs": [
        {
          "output_type": "stream",
          "name": "stdout",
          "text": [
            "Cleaning and preprocessing data...\n",
            "Training ensemble model (SVM + Random Forest) and evaluating accuracy...\n"
          ]
        },
        {
          "output_type": "stream",
          "name": "stderr",
          "text": [
            "/usr/local/lib/python3.11/dist-packages/sklearn/feature_extraction/text.py:539: UserWarning: The parameter 'stop_words' will not be used since 'analyzer' != 'word'\n",
            "  warnings.warn(\n"
          ]
        },
        {
          "output_type": "stream",
          "name": "stdout",
          "text": [
            "Ensemble Model Accuracy: 0.9926\n",
            "Filtered dataset saved as filtered_allergy_free_foods_ensemble.csv. Upload and download it from Google Colab!\n"
          ]
        }
      ],
      "source": [
        "import pandas as pd\n",
        "from sklearn.feature_extraction.text import TfidfVectorizer\n",
        "from sklearn.model_selection import train_test_split\n",
        "from sklearn.svm import SVC\n",
        "from sklearn.ensemble import RandomForestClassifier, VotingClassifier\n",
        "from sklearn.pipeline import Pipeline\n",
        "from sklearn.metrics import accuracy_score\n",
        "\n",
        "# Load dataset\n",
        "file_path = \"SHORT VERSION OF FOOD NUTRITUION.xlsx\"  # Ensure this file is uploaded to Colab\n",
        "xls = pd.ExcelFile(file_path)\n",
        "df = pd.read_excel(xls, sheet_name=\"Sheet1\")\n",
        "\n",
        "# Data Cleaning\n",
        "print(\"Cleaning and preprocessing data...\")\n",
        "df[\"categories_en\"] = df[\"categories_en\"].fillna(\"\")\n",
        "df[\"traces_en\"] = df[\"traces_en\"].fillna(\"\")\n",
        "\n",
        "# Define expanded gluten and dairy keywords\n",
        "allergen_keywords = [\n",
        "    \"gluten\", \"wheat\", \"barley\", \"rye\", \"dairy\", \"milk\", \"cheese\", \"butter\",\n",
        "    \"casein\", \"lactose\", \"yogurt\", \"cream\", \"custard\", \"bread\", \"cracker\", \"pasta\",\n",
        "    \"skimmed milk\", \"whole milk\", \"milk solids\", \"buttermilk\", \"margarine\", \"sour cream\",\n",
        "    \"ghee\", \"cheddar\", \"mozzarella\", \"parmesan\", \"ricotta\", \"cottage cheese\", \"feta\",\n",
        "    \"spelt\", \"oats\", \"couscous\", \"semolina\", \"farro\", \"malt\", \"seitan\", \"durum\"\n",
        "]\n",
        "pattern = \"|\".join(allergen_keywords)\n",
        "df[\"allergen_label\"] = (\n",
        "    df[\"categories_en\"].str.contains(pattern, case=False, na=False) |\n",
        "    df[\"traces_en\"].str.contains(pattern, case=False, na=False)\n",
        ").astype(int)\n",
        "\n",
        "# Define features and labels\n",
        "X = df[\"categories_en\"] + \" \" + df[\"traces_en\"]\n",
        "y = df[\"allergen_label\"]\n",
        "X_train, X_test, y_train, y_test = train_test_split(X, y, test_size=0.2, random_state=42, stratify=y)\n",
        "\n",
        "# Create SVM and Random Forest models\n",
        "svm_model = SVC(kernel=\"rbf\", C=5.0, gamma=\"scale\", probability=True)\n",
        "rf_model = RandomForestClassifier(n_estimators=100, random_state=42)\n",
        "\n",
        "# Create an ensemble model using VotingClassifier\n",
        "ensemble_pipeline = Pipeline([\n",
        "    (\"tfidf\", TfidfVectorizer(ngram_range=(1, 5), stop_words=\"english\", max_features=10000, analyzer='char_wb')),\n",
        "    (\"classifier\", VotingClassifier(estimators=[('svm', svm_model), ('rf', rf_model)], voting='soft'))\n",
        "])\n",
        "\n",
        "# Train ensemble model\n",
        "print(\"Training ensemble model (SVM + Random Forest) and evaluating accuracy...\")\n",
        "ensemble_pipeline.fit(X_train, y_train)\n",
        "y_pred = ensemble_pipeline.predict(X_test)\n",
        "accuracy = accuracy_score(y_test, y_pred)\n",
        "print(f\"Ensemble Model Accuracy: {accuracy:.4f}\")\n",
        "\n",
        "# Filter allergen-free foods using the ensemble model\n",
        "df[\"allergen_prediction\"] = ensemble_pipeline.predict(df[\"categories_en\"] + \" \" + df[\"traces_en\"])\n",
        "filtered_df = df[df[\"allergen_prediction\"] == 0].drop(columns=[\"allergen_prediction\"])\n",
        "\n",
        "# Save filtered dataset\n",
        "filtered_file_path = \"filtered_allergy_free_foods_ensemble.csv\"\n",
        "filtered_df.to_csv(filtered_file_path, index=False)\n",
        "print(f\"Filtered dataset saved as {filtered_file_path}. Upload and download it from Google Colab!\")\n"
      ]
    }
  ]
}
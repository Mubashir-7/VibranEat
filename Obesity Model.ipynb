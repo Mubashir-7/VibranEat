{
  "nbformat": 4,
  "nbformat_minor": 0,
  "metadata": {
    "colab": {
      "provenance": []
    },
    "kernelspec": {
      "name": "python3",
      "display_name": "Python 3"
    },
    "language_info": {
      "name": "python"
    }
  },
  "cells": [
    {
      "cell_type": "code",
      "source": [
        "import pandas as pd\n",
        "from sklearn.model_selection import train_test_split\n",
        "from sklearn.preprocessing import LabelEncoder, StandardScaler\n",
        "\n",
        "\n",
        "df = pd.read_csv(\"train.csv\")\n",
        "df.drop(columns=[\"id\"], inplace=True)\n",
        "\n",
        "#Data cleaning preprocessing\n",
        "\n",
        "# categorical columns\n",
        "categorical_cols = [\"Gender\", \"family_history_with_overweight\", \"FAVC\", \"CAEC\", \"SMOKE\", \"SCC\", \"MTRANS\", \"NObeyesdad\"]\n",
        "label_encoders = {}\n",
        "for col in categorical_cols:\n",
        "    le = LabelEncoder()\n",
        "    df[col] = le.fit_transform(df[col])\n",
        "    label_encoders[col] = le\n",
        "\n",
        "# normalize numerical features\n",
        "scaler = StandardScaler()\n",
        "numerical_cols = [\"Age\", \"Height\", \"Weight\", \"FCVC\", \"NCP\", \"CH2O\", \"FAF\"]\n",
        "df[numerical_cols] = scaler.fit_transform(df[numerical_cols])\n",
        "\n"
      ],
      "metadata": {
        "id": "6bngBfEiiSLZ"
      },
      "execution_count": 6,
      "outputs": []
    },
    {
      "cell_type": "code",
      "source": [
        "import pandas as pd\n",
        "from sklearn.model_selection import train_test_split\n",
        "from sklearn.preprocessing import StandardScaler\n",
        "from xgboost import XGBClassifier\n",
        "from sklearn.metrics import accuracy_score\n",
        "\n",
        "def classify_obesity(bmi):\n",
        "    if bmi < 18.5:\n",
        "        return \"Underweight\"\n",
        "    elif 18.5 <= bmi < 25:\n",
        "        return \"Normal weight\"\n",
        "    elif 25 <= bmi < 30:\n",
        "        return \"Overweight\"\n",
        "    elif 30 <= bmi < 35:\n",
        "        return \"Obesity Type I\"\n",
        "    elif 35 <= bmi < 40:\n",
        "        return \"Obesity Type II\"\n",
        "    else:\n",
        "        return \"Obesity Type III\"\n",
        "\n",
        "\n",
        "df = pd.read_csv(\"train.csv\")\n",
        "obese_classes = [\"Obesity_Type_I\", \"Obesity_Type_II\", \"Obesity_Type_III\"]\n",
        "df[\"Obese\"] = df[\"NObeyesdad\"].apply(lambda x: 1 if x in obese_classes else 0)\n",
        "df.drop(columns=[\"NObeyesdad\", \"id\"], inplace=True)\n",
        "\n",
        "df[\"BMI\"] = df[\"Weight\"] / (df[\"Height\"] ** 2)\n",
        "df[\"Obesity_Level\"] = df[\"BMI\"].apply(classify_obesity)\n",
        "\n",
        "df_encoded = pd.get_dummies(df, columns=[\"Gender\", \"family_history_with_overweight\", \"FAVC\", \"CAEC\", \"SMOKE\", \"SCC\", \"MTRANS\"], drop_first=True)\n",
        "\n",
        "X = df_encoded.drop(columns=[\"Obese\", \"Obesity_Level\"])\n",
        "y = df_encoded[\"Obese\"]\n",
        "\n",
        "scaler = StandardScaler()\n",
        "X_scaled = scaler.fit_transform(X)\n",
        "\n",
        "X_train, X_test, y_train, y_test = train_test_split(X_scaled, y, test_size=0.2, random_state=42, stratify=y)\n",
        "\n",
        "xgb_model = XGBClassifier(n_estimators=100, use_label_encoder=False, eval_metric=\"logloss\", random_state=42)\n",
        "xgb_model.fit(X_train, y_train)\n",
        "\n",
        "y_pred = xgb_model.predict(X_test)\n",
        "accuracy = accuracy_score(y_test, y_pred)\n",
        "print(f\"XGBoost Model Accuracy: {accuracy:.4f}\")\n",
        "\n",
        "weight = float(input(\"Enter your weight in kg: \"))\n",
        "height = float(input(\"Enter your height in meters: \"))\n",
        "bmi = weight / (height ** 2)\n",
        "classification = classify_obesity(bmi)\n",
        "print(f\"Your BMI is {bmi:.2f}, which falls under '{classification}' category.\")\n"
      ],
      "metadata": {
        "colab": {
          "base_uri": "https://localhost:8080/"
        },
        "id": "8hbn0mP0mjpL",
        "outputId": "7e0ad24c-1487-48b8-eac4-a6c7e750c49c"
      },
      "execution_count": 7,
      "outputs": [
        {
          "output_type": "stream",
          "name": "stderr",
          "text": [
            "/usr/local/lib/python3.11/dist-packages/xgboost/core.py:158: UserWarning: [21:07:07] WARNING: /workspace/src/learner.cc:740: \n",
            "Parameters: { \"use_label_encoder\" } are not used.\n",
            "\n",
            "  warnings.warn(smsg, UserWarning)\n"
          ]
        },
        {
          "output_type": "stream",
          "name": "stdout",
          "text": [
            "XGBoost Model Accuracy: 0.9774\n",
            "Enter your weight in kg: 68\n",
            "Enter your height in meters: 1.8\n",
            "Your BMI is 20.99, which falls under 'Normal weight' category.\n"
          ]
        }
      ]
    }
  ]
}
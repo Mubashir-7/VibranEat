{
  "nbformat": 4,
  "nbformat_minor": 0,
  "metadata": {
    "colab": {
      "provenance": []
    },
    "kernelspec": {
      "name": "python3",
      "display_name": "Python 3"
    },
    "language_info": {
      "name": "python"
    }
  },
  "cells": [
    {
      "cell_type": "code",
      "source": [
        "import pandas as pd\n",
        "from sklearn.model_selection import train_test_split\n",
        "from sklearn.ensemble import RandomForestClassifier\n",
        "from sklearn.metrics import accuracy_score\n",
        "file_path = \"dis_sym_dataset_comb.csv\"\n",
        "\n",
        "df = pd.read_csv(file_path)\n",
        "X = df.drop(columns=['label_dis'])\n",
        "y = df['label_dis']\n",
        "\n",
        "X_train, X_test, y_train, y_test = train_test_split(X, y, test_size=0.2, random_state=42)\n",
        "\n",
        "rf_model = RandomForestClassifier(random_state=42)\n",
        "rf_model.fit(X_train, y_train)\n",
        "\n",
        "\n",
        "y_pred = rf_model.predict(X_test)\n",
        "accuracy = accuracy_score(y_test, y_pred)\n",
        "print(f\"Random Forest Model Accuracy: {accuracy}\")\n",
        "\n",
        "print(\"Enter symptoms (comma-separated):\")\n",
        "user_input = input().split(',')\n",
        "user_input = [sym.strip() for sym in user_input]\n",
        "\n",
        "user_data = pd.DataFrame(0, index=[0], columns=X.columns)\n",
        "\n",
        "for symptom in user_input:\n",
        "    if symptom in user_data.columns:\n",
        "        user_data[symptom] = 1\n",
        "    else:\n",
        "        print(f\"Warning: Symptom '{symptom}' not recognized in dataset.\")\n",
        "\n",
        "prediction = rf_model.predict(user_data)\n",
        "print(f\"Predicted Disease: {prediction[0]}\")"
      ],
      "metadata": {
        "colab": {
          "base_uri": "https://localhost:8080/"
        },
        "id": "H39USyzxCxdv",
        "outputId": "8df3884c-3667-4c02-a892-19fc795472a5"
      },
      "execution_count": 15,
      "outputs": [
        {
          "output_type": "stream",
          "name": "stdout",
          "text": [
            "Random Forest Model Accuracy: 0.8794567062818336\n",
            "Enter symptoms (comma-separated):\n",
            "itching,cough\n",
            "Warning: Symptom 'cough' not recognized in dataset.\n",
            "Predicted Disease: Lymphoma\n"
          ]
        }
      ]
    }
  ]
}
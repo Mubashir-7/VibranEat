{
  "nbformat": 4,
  "nbformat_minor": 0,
  "metadata": {
    "colab": {
      "provenance": []
    },
    "kernelspec": {
      "name": "python3",
      "display_name": "Python 3"
    },
    "language_info": {
      "name": "python"
    }
  },
  "cells": [
    {
      "cell_type": "code",
      "execution_count": 13,
      "metadata": {
        "colab": {
          "base_uri": "https://localhost:8080/"
        },
        "id": "2anBt-y-2ZIV",
        "outputId": "fdc97606-d786-492a-c94b-63dd94097b5e"
      },
      "outputs": [
        {
          "output_type": "stream",
          "name": "stdout",
          "text": [
            "Cleaning and preprocessing data...\n",
            "Training optimized SVM model and evaluating accuracy...\n"
          ]
        },
        {
          "output_type": "stream",
          "name": "stderr",
          "text": [
            "/usr/local/lib/python3.11/dist-packages/sklearn/feature_extraction/text.py:539: UserWarning: The parameter 'stop_words' will not be used since 'analyzer' != 'word'\n",
            "  warnings.warn(\n"
          ]
        },
        {
          "output_type": "stream",
          "name": "stdout",
          "text": [
            "Optimized SVM Accuracy: 0.9862\n",
            "Filtered dataset saved as filtered_allergy_free_foods_svm_final_v4.csv. Upload and download it from Google Colab!\n"
          ]
        }
      ],
      "source": [
        "import pandas as pd\n",
        "from sklearn.feature_extraction.text import TfidfVectorizer\n",
        "from sklearn.model_selection import train_test_split\n",
        "from sklearn.svm import SVC\n",
        "from sklearn.pipeline import Pipeline\n",
        "from sklearn.metrics import accuracy_score\n",
        "\n",
        "\n",
        "xls = pd.ExcelFile(\"SHORT VERSION OF FOOD NUTRITUION.xlsx\")\n",
        "df = pd.read_excel(xls, sheet_name=\"Sheet1\")\n",
        "\n",
        "# Data Cleaning\n",
        "print(\"Cleaning and preprocessing data...\")\n",
        "df[\"categories_en\"] = df[\"categories_en\"].fillna(\"\")\n",
        "df[\"traces_en\"] = df[\"traces_en\"].fillna(\"\")\n",
        "\n",
        "# Expanded list of gluten and dairy keywords including alternative spellings\n",
        "allergen_keywords = [\n",
        "    \"gluten\", \"wheat\", \"barley\", \"rye\", \"dairy\", \"milk\", \"cheese\", \"butter\",\n",
        "    \"casein\", \"lactose\", \"yogurt\", \"cream\", \"custard\", \"bread\", \"cracker\", \"pasta\",\n",
        "    \"skimmed milk\", \"whole milk\", \"milk solids\", \"buttermilk\", \"margarine\", \"sour cream\",\n",
        "    \"ghee\", \"cheddar\", \"mozzarella\", \"parmesan\", \"ricotta\", \"cottage cheese\", \"feta\",\n",
        "    \"spelt\", \"oats\", \"couscous\", \"semolina\", \"farro\", \"malt\", \"seitan\", \"durum\"\n",
        "]\n",
        "# Strict word boundaries\n",
        "pattern = \"|\".join([fr\"\\b{k}\\b\" for k in allergen_keywords])\n",
        "df[\"allergen_label\"] = (\n",
        "    df[\"categories_en\"].str.contains(pattern, case=False, na=False) |\n",
        "    df[\"traces_en\"].str.contains(pattern, case=False, na=False)\n",
        ").astype(int)\n",
        "\n",
        "# Ensure there are at least two classes\n",
        "if df[\"allergen_label\"].nunique() < 2:\n",
        "    raise ValueError(\"Dataset contains only one class. Ensure dataset balance before training.\")\n",
        "\n",
        "# Define features and labels\n",
        "X = df[\"categories_en\"] + \" \" + df[\"traces_en\"]\n",
        "y = df[\"allergen_label\"]\n",
        "X_train, X_test, y_train, y_test = train_test_split(X, y, test_size=0.2, random_state=42, stratify=y)\n",
        "\n",
        "# Improved SVM model with refined hyperparameters\n",
        "print(\"Training optimized SVM model and evaluating accuracy...\")\n",
        "svm_pipeline = Pipeline([\n",
        "    (\"tfidf\", TfidfVectorizer(ngram_range=(1, 4), stop_words=\"english\", max_features=15000, sublinear_tf=True, analyzer='char_wb')),\n",
        "    (\"classifier\", SVC(kernel=\"rbf\", C=10.0, gamma=\"scale\", probability=True))\n",
        "])\n",
        "svm_pipeline.fit(X_train, y_train)\n",
        "y_pred = svm_pipeline.predict(X_test)\n",
        "accuracy = accuracy_score(y_test, y_pred)\n",
        "print(f\"Optimized SVM Accuracy: {accuracy:.4f}\")\n",
        "\n",
        "# Filter allergen-free foods using the improved SVM model\n",
        "df[\"allergen_prediction\"] = svm_pipeline.predict(df[\"categories_en\"] + \" \" + df[\"traces_en\"])\n",
        "filtered_df = df[df[\"allergen_prediction\"] == 0].drop(columns=[\"allergen_prediction\"])\n",
        "\n",
        "# Save filtered dataset\n",
        "filtered_file_path = \"filtered_allergy_free_foods_svm_final_v4.csv\"\n",
        "filtered_df.to_csv(filtered_file_path, index=False)\n",
        "print(f\"Filtered dataset saved as {filtered_file_path}. Upload and download it from Google Colab!\")\n"
      ]
    },
    {
      "cell_type": "markdown",
      "source": [
        "# New Section"
      ],
      "metadata": {
        "id": "KKAT97ksCxBR"
      }
    }
  ]
}
{
  "nbformat": 4,
  "nbformat_minor": 0,
  "metadata": {
    "colab": {
      "provenance": []
    },
    "kernelspec": {
      "name": "python3",
      "display_name": "Python 3"
    },
    "language_info": {
      "name": "python"
    }
  },
  "cells": [
    {
      "cell_type": "code",
      "execution_count": 1,
      "metadata": {
        "colab": {
          "base_uri": "https://localhost:8080/"
        },
        "id": "bO4CAmsG1D4_",
        "outputId": "acb66e6a-21ed-4940-aeb7-f9b1dbc07b23"
      },
      "outputs": [
        {
          "output_type": "stream",
          "name": "stdout",
          "text": [
            "Sample Prediction: Person has Alzheimer's\n"
          ]
        },
        {
          "output_type": "stream",
          "name": "stderr",
          "text": [
            "/usr/local/lib/python3.11/dist-packages/sklearn/utils/validation.py:2739: UserWarning: X does not have valid feature names, but StandardScaler was fitted with feature names\n",
            "  warnings.warn(\n"
          ]
        }
      ],
      "source": [
        "import numpy as np\n",
        "import joblib\n",
        "import pandas as pd\n",
        "from sklearn.ensemble import GradientBoostingClassifier\n",
        "from sklearn.preprocessing import StandardScaler\n",
        "from sklearn.model_selection import train_test_split\n",
        "\n",
        "# Load the dataset (assume it is already uploaded)\n",
        "df = pd.read_csv(\"alzheimers_disease_data.csv\")\n",
        "\n",
        "# Drop irrelevant columns\n",
        "df.drop(columns=['PatientID', 'DoctorInCharge'], inplace=True)\n",
        "\n",
        "# Separate features and target variable\n",
        "X = df.drop(columns=['Diagnosis'])\n",
        "y = df['Diagnosis']\n",
        "\n",
        "# Standardize numerical features\n",
        "scaler = StandardScaler()\n",
        "X_scaled = scaler.fit_transform(X)\n",
        "\n",
        "# Split dataset into training and testing sets (80% train, 20% test)\n",
        "X_train, X_test, y_train, y_test = train_test_split(X_scaled, y, test_size=0.2, random_state=42)\n",
        "\n",
        "# Train the Gradient Boosting model\n",
        "best_gb_model = GradientBoostingClassifier()\n",
        "best_gb_model.fit(X_train, y_train)\n",
        "\n",
        "# Save the model and scaler\n",
        "joblib.dump(best_gb_model, \"gradient_boosting_model.pkl\")\n",
        "joblib.dump(scaler, \"scaler.pkl\")\n",
        "\n",
        "# Load model and scaler for prediction\n",
        "def load_model():\n",
        "    model = joblib.load(\"gradient_boosting_model.pkl\")\n",
        "    scaler = joblib.load(\"scaler.pkl\")\n",
        "    return model, scaler\n",
        "\n",
        "# Function for user input prediction\n",
        "def predict_alzheimers(user_input):\n",
        "    model, scaler = load_model()\n",
        "\n",
        "    # Convert user input to numpy array and reshape\n",
        "    user_input_array = np.array(user_input).reshape(1, -1)\n",
        "\n",
        "    # Scale input\n",
        "    user_input_scaled = scaler.transform(user_input_array)\n",
        "\n",
        "    # Predict\n",
        "    prediction = model.predict(user_input_scaled)\n",
        "\n",
        "    # Return result\n",
        "    return \"Person has Alzheimer's\" if prediction[0] == 1 else \"Person is Safe\"\n",
        "\n",
        "# Example input (user should input 32 values matching dataset features)\n",
        "user_sample = [0.5, 1.2, 0.8, 0.6, 1.1, 0.9, 0.7, 0.4, 1.3, 0.6, 0.5, 1.0, 0.8, 0.3, 0.9, 1.2, 0.4, 0.7, 0.5, 1.1, 0.6, 0.8, 0.9, 0.5, 1.2, 0.3, 0.7, 1.0, 0.8, 0.6, 0.4, 1.1]\n",
        "print(\"Sample Prediction:\", predict_alzheimers(user_sample))\n",
        "\n"
      ]
    },
    {
      "cell_type": "code",
      "source": [
        "import numpy as np\n",
        "import joblib\n",
        "import pandas as pd\n",
        "import tensorflow as tf\n",
        "from tensorflow.keras.models import Sequential, load_model\n",
        "from tensorflow.keras.layers import Dense\n",
        "from sklearn.ensemble import GradientBoostingClassifier\n",
        "from sklearn.preprocessing import StandardScaler\n",
        "from sklearn.model_selection import train_test_split\n",
        "from sklearn.metrics import accuracy_score\n",
        "\n",
        "# Load the dataset (assume it is already uploaded)\n",
        "df = pd.read_csv(\"alzheimers_disease_data.csv\")\n",
        "\n",
        "# Drop irrelevant columns\n",
        "df.drop(columns=['PatientID', 'DoctorInCharge'], inplace=True)\n",
        "\n",
        "# Separate features and target variable\n",
        "X = df.drop(columns=['Diagnosis'])\n",
        "y = df['Diagnosis']\n",
        "\n",
        "# Standardize numerical features\n",
        "scaler = StandardScaler()\n",
        "X_scaled = scaler.fit_transform(X)\n",
        "\n",
        "# Split dataset into training and testing sets (80% train, 20% test)\n",
        "X_train, X_test, y_train, y_test = train_test_split(X_scaled, y, test_size=0.2, random_state=42)\n",
        "\n",
        "# Train the Gradient Boosting model\n",
        "best_gb_model = GradientBoostingClassifier()\n",
        "best_gb_model.fit(X_train, y_train)\n",
        "\n",
        "# Save the model and scaler\n",
        "joblib.dump(best_gb_model, \"gradient_boosting_model.pkl\")\n",
        "joblib.dump(scaler, \"scaler.pkl\")\n",
        "\n",
        "# Evaluate Gradient Boosting Model\n",
        "gb_predictions = best_gb_model.predict(X_test)\n",
        "gb_accuracy = accuracy_score(y_test, gb_predictions)\n",
        "print(f\"Gradient Boosting Model Accuracy: {gb_accuracy:.2%}\")\n",
        "\n",
        "# Convert Gradient Boosting model to a simple neural network and save as H5 file\n",
        "nn_model = Sequential([\n",
        "    Dense(32, activation='relu', input_shape=(X_train.shape[1],)),\n",
        "    Dense(16, activation='relu'),\n",
        "    Dense(1, activation='sigmoid')\n",
        "])\n",
        "\n",
        "nn_model.compile(optimizer='adam', loss='binary_crossentropy', metrics=['accuracy'])\n",
        "\n",
        "# Train neural network\n",
        "nn_model.fit(X_train, y_train, epochs=50, batch_size=16, verbose=0)\n",
        "\n",
        "# Save model as H5 file\n",
        "nn_model.save(\"alzheimers_prediction_model.h5\")\n",
        "\n",
        "# Evaluate Neural Network Model\n",
        "nn_loss, nn_accuracy = nn_model.evaluate(X_test, y_test, verbose=0)\n",
        "print(f\"Neural Network Model Accuracy: {nn_accuracy:.2%}\")\n",
        "\n",
        "# Load model and scaler for prediction\n",
        "def load_model():\n",
        "    model = joblib.load(\"gradient_boosting_model.pkl\")\n",
        "    scaler = joblib.load(\"scaler.pkl\")\n",
        "    return model, scaler\n",
        "\n",
        "# Function for user input prediction\n",
        "def predict_alzheimers(user_input):\n",
        "    model, scaler = load_model()\n",
        "\n",
        "    # Convert user input to numpy array and reshape\n",
        "    user_input_array = np.array(user_input).reshape(1, -1)\n",
        "\n",
        "    # Scale input\n",
        "    user_input_scaled = scaler.transform(user_input_array)\n",
        "\n",
        "    # Predict\n",
        "    prediction = model.predict(user_input_scaled)\n",
        "\n",
        "    # Return result\n",
        "    return \"Person has Alzheimer's\" if prediction[0] == 1 else \"Person is Safe\"\n",
        "\n",
        "# Example input (user should input 32 values matching dataset features)\n",
        "user_sample = [0.5, 1.2, 0.8, 0.6, 1.1, 0.9, 0.7, 0.4, 1.3, 0.6, 0.5, 1.0, 0.8, 0.3, 0.9, 1.2, 0.4, 0.7, 0.5, 1.1, 0.6, 0.8, 0.9, 0.5, 1.2, 0.3, 0.7, 1.0, 0.8, 0.6, 0.4, 1.1]\n",
        "print(\"Gradient Boosting Sample Prediction:\", predict_alzheimers(user_sample))\n",
        "\n",
        "# Ask if user wants to input data\n",
        "while True:\n",
        "    user_choice = input(\"Do you want to enter 32 medical parameters for prediction? (yes/no): \").strip().lower()\n",
        "    if user_choice == 'no':\n",
        "        print(\"Exiting program.\")\n",
        "        break\n",
        "    elif user_choice == 'yes':\n",
        "        user_input = [float(input(f\"Feature {i+1}: \")) for i in range(32)]\n",
        "        print(\"Gradient Boosting User Input Prediction:\", predict_alzheimers(user_input))\n",
        "    else:\n",
        "        print(\"Invalid input. Please enter 'yes' or 'no'.\")\n"
      ],
      "metadata": {
        "colab": {
          "base_uri": "https://localhost:8080/"
        },
        "id": "FtwBcOEvptYz",
        "outputId": "76235261-69a3-4ecd-9522-6a2e99701b31"
      },
      "execution_count": 6,
      "outputs": [
        {
          "output_type": "stream",
          "name": "stdout",
          "text": [
            "Gradient Boosting Model Accuracy: 95.58%\n"
          ]
        },
        {
          "output_type": "stream",
          "name": "stderr",
          "text": [
            "/usr/local/lib/python3.11/dist-packages/keras/src/layers/core/dense.py:87: UserWarning: Do not pass an `input_shape`/`input_dim` argument to a layer. When using Sequential models, prefer using an `Input(shape)` object as the first layer in the model instead.\n",
            "  super().__init__(activity_regularizer=activity_regularizer, **kwargs)\n",
            "WARNING:absl:You are saving your model as an HDF5 file via `model.save()` or `keras.saving.save_model(model)`. This file format is considered legacy. We recommend using instead the native Keras format, e.g. `model.save('my_model.keras')` or `keras.saving.save_model(model, 'my_model.keras')`. \n",
            "/usr/local/lib/python3.11/dist-packages/sklearn/utils/validation.py:2739: UserWarning: X does not have valid feature names, but StandardScaler was fitted with feature names\n",
            "  warnings.warn(\n"
          ]
        },
        {
          "output_type": "stream",
          "name": "stdout",
          "text": [
            "Neural Network Model Accuracy: 80.70%\n",
            "Gradient Boosting Sample Prediction: Person has Alzheimer's\n",
            "Do you want to enter 32 medical parameters for prediction? (yes/no): no\n",
            "Exiting program.\n"
          ]
        }
      ]
    }
  ]
}